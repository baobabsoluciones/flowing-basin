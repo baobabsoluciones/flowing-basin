{
 "cells": [
  {
   "cell_type": "markdown",
   "metadata": {
    "collapsed": false,
    "editable": false,
    "jupyter": {
     "outputs_hidden": false
    },
    "slideshow": {
     "slide_type": ""
    },
    "tags": []
   },
   "source": [
    "# Config and package loading"
   ]
  },
  {
   "cell_type": "code",
   "execution_count": null,
   "metadata": {
    "collapsed": false,
    "editable": true,
    "jupyter": {
     "outputs_hidden": false
    },
    "slideshow": {
     "slide_type": ""
    },
    "tags": []
   },
   "outputs": [],
   "source": [
    "from flowing_basin.core import Instance\n",
    "from cornflow_client.core.tools import load_json\n",
    "from flowing_basin.solvers.rl import RLEnvironment, RLConfiguration\n",
    "import numpy as np\n",
    "from stable_baselines3.common.env_checker import check_env\n",
    "from datetime import datetime\n",
    "from flowing_basin.core import Instance\n",
    "from cornflow_client.core.tools import load_json\n",
    "from flowing_basin.solvers.rl import RLConfiguration, RLTrain\n",
    "from datetime import datetime\n",
    "from matplotlib import pyplot as plt\n",
    "import numpy as np"
   ]
  },
  {
   "cell_type": "markdown",
   "metadata": {
    "collapsed": false,
    "editable": true,
    "jupyter": {
     "outputs_hidden": false
    },
    "slideshow": {
     "slide_type": ""
    },
    "tags": []
   },
   "source": [
    "# Experiment parameters"
   ]
  },
  {
   "cell_type": "code",
   "execution_count": null,
   "metadata": {
    "collapsed": false,
    "editable": false,
    "jupyter": {
     "outputs_hidden": false
    },
    "slideshow": {
     "slide_type": ""
    },
    "tags": [
     "parameters"
    ]
   },
   "outputs": [],
   "source": [
    "### DO NOT REMOVE THIS CELL ###\n",
    "\"\"\"\n",
    "This cell contains the default Papermill parameters to run the notebook. Parameters passed outside the template will override the default values.\n",
    "In case of error, edit the metadata on this cell to add the TAG 'parameters'. Papermill will interpret that these are the values to replace/use as defaults.\n",
    "\"\"\"\n",
    "\n",
    "PATH_CONSTANTS = \"../data/constants/constants_2dams.json\"\n",
    "PATH_TRAIN_DATA = \"../data/history/historical_data_clean_train.pickle\"\n",
    "PATH_TEST_DATA = \"../data/history/historical_data_clean_test.pickle\"\n",
    "\n",
    "PLOT_TRAINING_CURVE = True\n",
    "SAVE_OBSERVATIONS = True\n",
    "PATH_OBSERVATIONS = \"../analyses/rl_pca/observations_data/observationsO2.npy\"\n",
    "PATH_OBSERVATIONS_CONFIG = \"../analyses/rl_pca/observations_data/observationsO2_config.json\"\n",
    "\n",
    "experiment_name = datetime.now().strftime('%Y-%m-%d %H.%M')\n",
    "\n",
    "# ENVIRONMENT 1 (WITH INSTANCE 1)\n",
    "constants = Instance.from_dict(load_json(PATH_CONSTANTS))\n",
    "\n",
    "startups_penalty = 50\n",
    "limit_zones_penalty = 50\n",
    "mode=\"linear\"\n",
    "flow_smoothing=2\n",
    "flow_smoothing_penalty=25\n",
    "flow_smoothing_clip=False\n",
    "action_type=\"exiting_flows\"\n",
    "\n",
    "features = [\n",
    "    \"past_vols\", \"past_flows\", \"past_variations\", \"future_prices\",\n",
    "    \"future_inflows\", \"past_turbined\", \"past_groups\", \"past_powers\", \"past_clipped\",\n",
    "]\n",
    "\n",
    "obs_box_shape=False\n",
    "feature_extractor='mlp'\n",
    "unique_features=[\"future_prices\", ]\n",
    "length_episodes=24 * 4 + 3\n",
    "log_ep_freq=5\n",
    "eval_ep_freq=5\n",
    "num_episodes=100\n",
    "eval_num_episodes=10\n",
    "do_history_updates=False\n",
    "do_history_updates=True\n",
    "update_observation_record=True"
   ]
  },
  {
   "cell_type": "markdown",
   "metadata": {
    "collapsed": false,
    "jupyter": {
     "outputs_hidden": false
    }
   },
   "source": [
    "# RL Experiment configuration"
   ]
  },
  {
   "cell_type": "code",
   "execution_count": null,
   "metadata": {
    "collapsed": false,
    "jupyter": {
     "outputs_hidden": false
    }
   },
   "outputs": [],
   "source": [
    "filepath_agent = f\"../studies/{experiment_name}/RL_model.zip\"\n",
    "filepath_config = f\"../studies/{experiment_name}/RL_model__config.json\"\n",
    "filepath_training = f\"./studies/{experiment_name}/RL_model_training.json\"\n",
    "\n",
    "constants = Instance.from_dict(load_json(PATH_CONSTANTS))\n",
    "config = RLConfiguration(\n",
    "    startups_penalty=startups_penalty,\n",
    "    limit_zones_penalty=limit_zones_penalty,\n",
    "    mode=mode,\n",
    "    flow_smoothing=flow_smoothing,\n",
    "    flow_smoothing_penalty=flow_smoothing_penalty,\n",
    "    flow_smoothing_clip=flow_smoothing_clip,\n",
    "    action_type=action_type,\n",
    "    features=features,\n",
    "    obs_box_shape=False,\n",
    "    feature_extractor=feature_extractor,\n",
    "    unique_features=unique_features,\n",
    "    num_steps_sight={\n",
    "        (\"past_flows\", \"dam1\"): constants.get_verification_lags_of_dam(\"dam1\")[-1] + 1,\n",
    "        (\"past_flows\", \"dam2\"): constants.get_verification_lags_of_dam(\"dam2\")[-1] + 1,\n",
    "        \"past_variations\": 2, \"future_prices\": 16, \"future_inflows\": 16,\n",
    "        \"other\": 1\n",
    "    },\n",
    "    length_episodes=length_episodes,\n",
    "    log_ep_freq=log_ep_freq,\n",
    "    eval_ep_freq=eval_ep_freq,\n",
    "    eval_num_episodes=eval_num_episodes,\n",
    "    do_history_updates=do_history_updates,\n",
    "    update_observation_record=SAVE_OBSERVATIONS,\n",
    ")\n"
   ]
  },
  {
   "cell_type": "markdown",
   "metadata": {
    "collapsed": false,
    "jupyter": {
     "outputs_hidden": false
    }
   },
   "source": [
    "# Train agent"
   ]
  },
  {
   "cell_type": "code",
   "execution_count": null,
   "metadata": {
    "collapsed": false,
    "jupyter": {
     "outputs_hidden": false
    }
   },
   "outputs": [],
   "source": [
    "\n",
    "train = RLTrain(\n",
    "    config=config,\n",
    "    path_constants=PATH_CONSTANTS,\n",
    "    path_train_data=PATH_TRAIN_DATA,\n",
    "    path_test_data=PATH_TEST_DATA\n",
    ")\n",
    "\n",
    "train.solve(\n",
    "    num_episodes=num_episodes,\n",
    "    path_agent=filepath_agent,\n",
    "    periodic_evaluation=True\n",
    ")\n",
    "train.plot_training_curve()\n",
    "\n",
    "# Store configuration used\n",
    "config.to_json(filepath_config)\n",
    "print(f\"Created JSON file '{filepath_config}'.\")\n",
    "\n",
    "# Store training curve data\n",
    "train.save_training_data(filepath_training)\n",
    "print(f\"Created JSON file '{filepath_training}'.\")"
   ]
  },
  {
   "cell_type": "markdown",
   "metadata": {
    "collapsed": false,
    "jupyter": {
     "outputs_hidden": false
    }
   },
   "source": [
    "# Store results"
   ]
  },
  {
   "cell_type": "code",
   "execution_count": null,
   "metadata": {
    "collapsed": false,
    "jupyter": {
     "outputs_hidden": false
    }
   },
   "outputs": [],
   "source": [
    "\n",
    "# Plot training curve\n",
    "if PLOT_TRAINING_CURVE:\n",
    "    plt.show()\n",
    "    print(train.model.policy)\n",
    "\n",
    "# Save observation record for later PCA analysis\n",
    "if SAVE_OBSERVATIONS:\n",
    "\n",
    "    print(\"Observation record shape:\", train.train_env.observation_record.shape)\n",
    "    print(\"Observation record:\", train.train_env.observation_record)\n",
    "\n",
    "    np.save(PATH_OBSERVATIONS, train.train_env.observation_record)\n",
    "    print(f\"Created .npy file '{PATH_OBSERVATIONS}'.\")\n",
    "\n",
    "    config.to_json(PATH_OBSERVATIONS_CONFIG)\n",
    "    print(f\"Created JSON file '{PATH_OBSERVATIONS_CONFIG}'.\")\n"
   ]
  }
 ],
 "metadata": {
  "kernelspec": {
   "display_name": "Python 3 (ipykernel)",
   "language": "python",
   "name": "python3"
  },
  "language_info": {
   "codemirror_mode": {
    "name": "ipython",
    "version": 3
   },
   "file_extension": ".py",
   "mimetype": "text/x-python",
   "name": "python",
   "nbconvert_exporter": "python",
   "pygments_lexer": "ipython3",
   "version": "3.10.13"
  }
 },
 "nbformat": 4,
 "nbformat_minor": 4
}
